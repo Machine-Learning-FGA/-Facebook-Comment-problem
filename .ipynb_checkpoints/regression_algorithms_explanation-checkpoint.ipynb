{
 "cells": [
  {
   "cell_type": "markdown",
   "metadata": {},
   "source": [
    "# Algorítmos de Regressão"
   ]
  },
  {
   "cell_type": "markdown",
   "metadata": {},
   "source": [
    "## Redes Neurais com Regressão"
   ]
  },
  {
   "cell_type": "markdown",
   "metadata": {},
   "source": [
    "Redes Neurais nada mais são que técnicas computacionais desenvolvidas em torno de modelos matemáticos que remontam \n",
    "a estrutura neural presente em organismos inteligentes. É importante considerar que esses modelos adquirem conhecimento por experiência.\n",
    "\n",
    "Para entender essas técnicas, é preciso se compreender o aspecto biológico. Sabe-se que o sistema nervoso é formado por um conjunto complexo de células, conhecidos como neurônios, estes têm um papel importante para o funcionamento, comportamento e raciocínio do ser humano. Eles são formados por dentritos (terminais de entrada), corpo central e axônios (Terminais de Saída).\n",
    "\n",
    "Artificialmente falando, uma rede desta é composta por várias unidades de processamento, com funcionamento simplificado, conectadas por canais de comunicação com determinado peso associado. Cada unidade opera apenas sobre os dados recebidos pelas conexões, essas operações consistem na relação dos sinais apresentados na entrada e, cada um destes é multiplicado por um peso (Indicando a influência na saída), uma soma ponderada produz um nível de atividade que, se exceder um limite (threshold), a unidade produz uma resposta.\n",
    "\n",
    "No geral os pesos das conexões são ajustados aos padrões, de modo que elas aprendam, ou sejam treinadas, por exemplos. A organização básica dá-se em camadas, com unidades conectadas à de camada superior. É importante frisar que o aprendizado ocorre quando a rede neural atinge uma solução generalizada para uma classe de problemas.\n",
    "\n",
    "![img](http://conteudo.icmc.usp.br/pessoas/andre/research/neural/image/camadas_an.gif)\n",
    "\n",
    "Dentre os tipos de aprendizado, o que se relaciona diretamente com o problema deste trabalho é o aprendizado não supervisionado, que pressupõe uma auto-organização. \n",
    "\n",
    "Há dois diferentes modos de executar a correção de pesos em um ciclo : Modo padrão (correção a cada apresentação de um exemplo do conjunto de treinamento) e modo batch, quando apenas uma correção é feita por ciclo, de modo que todos os exemplos do conjunto de treinamento são mostrados à rede ( calcula erro médio e faz correção dos pesos).\n",
    "\n",
    "De maneira geral,\n",
    "\n",
    "Dado um conjunto Dado um conjunto com N exemplos encontrar a função que minimize uma que minimize uma função de erro estabelecida, ou seja, o treinamento de uma rede neural consiste em decidir qual o mínimo de uma função de erro.\n",
    "\n",
    "### neural_network.MLPRegressor\n",
    "\n",
    "[documentação](http://scikit-learn.org/stable/modules/generated/sklearn.neural_network.MLPRegressor.html)\n",
    "\n",
    "O sckitlearn apresenta o MLPRegressor, que treina sem nenhuma função de ativação na camada de saída. Ele usa o erro quadrado como função de perda e tem como saída um conjunto de valores contínuos. Além disso, ele suporta regressão em que uma amostra tenha mais que um destino. Quanto algorítmo, se usado tem disponível o parâmetro alpha para evitar overfitting, penabilizando pesos de magnitude maior. \n",
    "\n",
    "Esse algoritmo é treinado de maneira iterativa, desde que em cada detalhe do tempo as derivadadas parciais da função do MLPRegressor são computadas e atualizam os parâmetros. Este modelo otimiza a perda quadrática usando LBFGS ou descendente de gradiente estocástico. Como o esperado, suporta diversos parâmetros, como:\n",
    "\n",
    "\n",
    "\n"
   ]
  },
  {
   "cell_type": "code",
   "execution_count": null,
   "metadata": {},
   "outputs": [],
   "source": [
    "* hidden_layer_sizes : tuple, length = n_layers - 2, padrão (100,)\n",
    "O elemento i representa o número de neurônios na camada oculta.\n",
    "activação : {'identity', 'logistic', 'tanh', 'relu'}, default 'relu'\n",
    "Função de ativação para a camada oculta.\n",
    "'identidade', ativação no-op, útil para implementar o gargalo linear, retorna f (x) = x\n",
    "'logistic', a função sigmoide logística, retorna f (x) = 1 / (1 + exp (-x)).\n",
    "'tanh', a função bronzeada hiperbólica, retorna f (x) = tanh (x).\n",
    "'relu', a função de unidade linear retificada, retorna f (x) = max (0, x)\n",
    "solver : {'lbfgs', 'sgd', 'adam'}, padrão 'adam'\n",
    "O solucionador para otimização de peso.\n",
    "'lbfgs' é um otimizador da família dos métodos quase Newton.\n",
    "'sgd' refere-se à descida de gradiente estocástica.\n",
    "'adam' refere-se a um otimizador baseado em gradiente estocástico proposto por Kingma, Diederik e Jimmy Ba\n",
    "Nota: O solucionador padrão 'adam' funciona muito bem em conjuntos de dados relativamente grandes (com milhares de amostras de treinamento ou mais) em termos de tempo de treinamento e pontuação de validação. Para conjuntos de dados pequenos, no entanto, 'lbfgs' podem convergir mais rapidamente e ter melhor desempenho.\n",
    "alpha : float, opcional, padrão 0.0001\n",
    "Parâmetro de penalidade L2 (termo de regularização).\n",
    "batch_size : int, opcional, padrão 'auto'\n",
    "Tamanho de minibatches para otimizadores estocásticos. Se o solucionador for 'lbfgs', o classificador não usará minibatch. Quando definido como \"auto\", batch_size = min (200, n_samples)\n",
    "learning_rate : {'constante', 'invscaling', 'adaptativo'}, padrão 'constante'\n",
    "Programação da taxa de aprendizado para atualizações de peso.\n",
    "'constante' é uma taxa de aprendizado constante dada por 'learning_rate_init'.\n",
    "'invscaling' diminui gradualmente a taxa de aprendizado learning_rate_ em cada passo de tempo 't' usando um expoente de escala inversa de 'power_t'. effective_learning_rate = learning_rate_init / pow (t, poder_t)\n",
    "'adaptativo' mantém a taxa de aprendizado constante para 'learning_rate_init', desde que a perda de treinamento continue diminuindo. Cada vez que duas épocas consecutivas falham em diminuir a perda de treinamento em pelo menos tol, ou não aumentam a pontuação de validação em, pelo menos, tol, se 'early_stopping' estiver ativada, a taxa atual de aprendizado é dividida por 5.\n",
    "Usado somente quando solver = 'sgd'.\n",
    "learning_rate_init : double, opcional, padrão 0.001\n",
    "A taxa inicial de aprendizado usada. Controla o tamanho da etapa na atualização dos pesos. Usado somente quando solver = 'sgd' ou 'adam'.\n",
    "power_t : double, opcional, padrão 0,5\n",
    "O expoente para taxa de aprendizado de escala inversa. Ele é usado para atualizar a taxa efetiva de aprendizado quando o valor do aprendizado é definido como 'invscaling'. Usado somente quando solver = 'sgd'.\n",
    "max_iter : int, opcional, padrão 200\n",
    "Número máximo de iterações. O solver itera até a convergência (determinada por 'tol') ou esse número de iterações. Para resolvedores estocásticos ('sgd', 'adam'), observe que isso determina o número de épocas (quantas vezes cada ponto de dados será usado), não o número de etapas de gradiente.\n",
    "shuffle : bool, opcional, padrão True\n",
    "Se deve embaralhar amostras em cada iteração. Usado somente quando solver = 'sgd' ou 'adam'.\n",
    "random_state : int, instância RandomState ou None, opcional, padrão Nenhum\n",
    "Se int, random_state é a semente usada pelo gerador de números aleatórios; Se a instância RandomState, random_state é o gerador de números aleatórios; Se Nenhum, o gerador de números aleatórios é a instância RandomState usada por np.random .\n",
    "tol : float, opcional, padrão 1e-4\n",
    "Tolerância para a otimização. Quando a perda ou pontuação não está melhorando pelo menos durante duas iterações consecutivas, a menos que o learning_rate seja ajustado para 'adaptativo', a convergência é considerada atingida e o treinamento pára.\n",
    "verbose : bool, opcional, padrão False\n",
    "Se deve imprimir mensagens de progresso no stdout.\n",
    "warm_start : bool, opcional, padrão False\n",
    "Quando definido como True, reutilize a solução da chamada anterior para ajustar como inicialização, caso contrário, basta apagar a solução anterior.\n",
    "momentum : float, padrão 0,9\n",
    "Momento para atualização de descida de gradiente. Deve estar entre 0 e 1. Apenas usado quando solver = 'sgd'.\n",
    "nesterovs_momentum : boolean, default True\n",
    "Se usar o momentum de Nesterov. Usado somente quando solver = 'sgd' e momentum> 0.\n",
    "early_stopping : bool, padrão False\n",
    "Se usar a parada antecipada para finalizar o treinamento quando a pontuação de validação não estiver melhorando. Se definido como verdadeiro, ele irá automaticamente anular 10% dos dados de treinamento como validação e encerrar o treinamento quando a pontuação de validação não estiver melhorando pelo menos durante duas épocas consecutivas. Apenas efetivo quando solver = 'sgd' ou 'adam'\n",
    "validation_fraction : float, opcional, padrão 0.1\n",
    "A proporção de dados de treinamento a serem definidos como um conjunto de validação para interrupção antecipada. Deve estar entre 0 e 1. Apenas usado se early_stopping for True\n",
    "beta_1 : float, opcional, padrão 0,9\n",
    "A taxa de decaimento exponencial para estimativas do primeiro momento vetorial em adam deve estar em [0, 1]. Usado somente quando solver = 'adam'\n",
    "beta_2 : float, opcional, padrão 0,999\n",
    "A taxa de decaimento exponencial para estimativas do segundo momento vetorial em adam deve estar em [0, 1). Usado somente quando solver = 'adam'\n",
    "epsilon : float, opcional, padrão 1e-8\n",
    "Valor para estabilidade numérica em adam. Usado somente quando solver = 'adam'"
   ]
  }
 ],
 "metadata": {
  "kernelspec": {
   "display_name": "Python 3",
   "language": "python",
   "name": "python3"
  },
  "language_info": {
   "codemirror_mode": {
    "name": "ipython",
    "version": 3
   },
   "file_extension": ".py",
   "mimetype": "text/x-python",
   "name": "python",
   "nbconvert_exporter": "python",
   "pygments_lexer": "ipython3",
   "version": "3.6.4"
  }
 },
 "nbformat": 4,
 "nbformat_minor": 2
}
