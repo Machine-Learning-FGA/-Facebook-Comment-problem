{
 "cells": [
  {
   "cell_type": "markdown",
   "metadata": {},
   "source": [
    "# Imports\n",
    "Para a execução e análise do Gradient Boosting, serão utilizadas as bibliotecas:\n",
    "* Pandas: para manipulação de dataframes;\n",
    "* Time: para o cálculo do tempo de execução;\n",
    "* Sklearn Ensemble: para a execução do Gradient Boosting;\n",
    "* Sklearn Metrics: para o cálculo das métricas."
   ]
  },
  {
   "cell_type": "code",
   "execution_count": 1,
   "metadata": {},
   "outputs": [],
   "source": [
    "import pandas as pd\n",
    "import matplotlib.pyplot as plt\n",
    "from sklearn.ensemble import GradientBoostingRegressor\n",
    "import time\n",
    "from sklearn.metrics import mean_absolute_error\n",
    "from sklearn.metrics import mean_squared_error"
   ]
  },
  {
   "cell_type": "markdown",
   "metadata": {},
   "source": [
    "# Leitura de Dados\n",
    "O dataset de comentários do facebook já possui uma estrutura dividida em arquivos de treino e arquivos de teste. A célula a seguir é responsável por ler tais arquivos e atribuir seus dados a duas variáveis de treino e teste."
   ]
  },
  {
   "cell_type": "code",
   "execution_count": 2,
   "metadata": {},
   "outputs": [],
   "source": [
    "train = pd.read_csv('facebook_general_dataset/Dataset/Training/Features_Variant_1.csv', header=None)\n",
    "test = pd.read_csv('facebook_general_dataset/Dataset/Testing/Features_TestSet.csv', header=None)"
   ]
  },
  {
   "cell_type": "code",
   "execution_count": 3,
   "metadata": {},
   "outputs": [],
   "source": [
    "train_x = train.drop([53], axis = 1).values\n",
    "train_y = train.iloc[:, -1].values\n",
    "\n",
    "test_x = test.drop([53], axis = 1).values\n",
    "test_y = test.iloc[:, -1].values"
   ]
  },
  {
   "cell_type": "markdown",
   "metadata": {},
   "source": [
    "## Gradient Boosting Regressor\n",
    "\n",
    "A seguir são carregados os parâmetros para criação do modelo do Gradient Boosting Regressor, onde:\n",
    "* n_estimatoors: indica a quantidade de estágios em que o algorítmo irá passar. Este parâmetro ajuda na performance do resultado;\n",
    "* min_samples_split: indica a quantidade de amostras necessárias para se fazer um nó na árvore;\n",
    "* random_state: indica o valor de Seed dos valores aleatórios do algoritmo."
   ]
  },
  {
   "cell_type": "code",
   "execution_count": 4,
   "metadata": {},
   "outputs": [],
   "source": [
    "gb = GradientBoostingRegressor(n_estimators=100000, min_samples_split=5, random_state=42)"
   ]
  },
  {
   "cell_type": "markdown",
   "metadata": {},
   "source": [
    "# Execução\n",
    "O gradient boosting em si é executado na célula a seguir. Os tempos de início e término de sua execução são registrados de forma que o tempo total de execução possa ser calculado. O mesmo é exibido como resultado."
   ]
  },
  {
   "cell_type": "code",
   "execution_count": 5,
   "metadata": {},
   "outputs": [
    {
     "name": "stdout",
     "output_type": "stream",
     "text": [
      "--- 4969.003474473953 seconds ---\n"
     ]
    }
   ],
   "source": [
    "start_time = time.time()\n",
    "gb.fit(train_x, train_y)\n",
    "y_pred = gb.predict(test_x)\n",
    "print(\"--- %s seconds ---\" % (time.time() - start_time))"
   ]
  },
  {
   "cell_type": "markdown",
   "metadata": {},
   "source": [
    "# Métricas\n",
    "Para avaliar os resultados da utilização da feature reduction com a técnica de gradient boosting, serão utilizadas as métricas de erro médio absoluto (que representa o número médio de comentários estimados errôneamente) e de erro quadrado absoluto. Ambas são apresentadas a seguir."
   ]
  },
  {
   "cell_type": "code",
   "execution_count": 6,
   "metadata": {},
   "outputs": [
    {
     "name": "stdout",
     "output_type": "stream",
     "text": [
      "34.907910487040766\n",
      "10043.28401757831\n"
     ]
    }
   ],
   "source": [
    "mae = mean_absolute_error(test_y, y_pred)\n",
    "mse = mean_squared_error(test_y, y_pred)\n",
    "\n",
    "print(mae)\n",
    "print(mse)"
   ]
  },
  {
   "cell_type": "code",
   "execution_count": null,
   "metadata": {},
   "outputs": [],
   "source": []
  },
  {
   "cell_type": "code",
   "execution_count": null,
   "metadata": {},
   "outputs": [],
   "source": []
  },
  {
   "cell_type": "code",
   "execution_count": null,
   "metadata": {},
   "outputs": [],
   "source": []
  }
 ],
 "metadata": {
  "kernelspec": {
   "display_name": "Python 3",
   "language": "python",
   "name": "python3"
  },
  "language_info": {
   "codemirror_mode": {
    "name": "ipython",
    "version": 3
   },
   "file_extension": ".py",
   "mimetype": "text/x-python",
   "name": "python",
   "nbconvert_exporter": "python",
   "pygments_lexer": "ipython3",
   "version": "3.6.4"
  }
 },
 "nbformat": 4,
 "nbformat_minor": 2
}
