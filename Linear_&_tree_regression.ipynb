{
 "cells": [
  {
   "cell_type": "markdown",
   "metadata": {},
   "source": [
    "## Linear Regression\n",
    "\n",
    "![](https://i.imgur.com/7lleoeM.png)\n",
    "A análise de regressão linear visa estudar o relacionamento entre a variável dependente e a variável indepentente.\n",
    "Essa relação se dá por meio de um modelo matemático classificado como linear. Existem dois tipos de Linear Regression: Simple Linear Regression (Se houver apenas uma variável independente) e Multiple Linear Regression (Se houver mais de uma). No caso deste Dataset, usaremos **Multiple Linear Regression**.\n",
    "\n",
    "### Multiple Linear Regression\n",
    "\n",
    "Como dito anteriormente, as variáveis independentes se relacionam com a variável dependente através de uma função matemática linear. No caso da Multiple Linear Regression, a função é dada pela seguinte equação:\n",
    "\n",
    "> #### y = b0 + b1*x1 + b2*x2 + ... + bn*x2\n",
    "\n",
    "Onde o y é a variável dependente e os Xs são as variáveis independentes.\n",
    "b0 é uma constante de os bs são coeficientes de ajuste desta função linear;\n"
   ]
  },
  {
   "cell_type": "markdown",
   "metadata": {},
   "source": [
    "## Decision tree Regression"
   ]
  },
  {
   "cell_type": "markdown",
   "metadata": {},
   "source": [
    "Decision tree Regression funciona da seguinte forma: Dado o seu dataset, ele será dividido, pelo algorítmo, em splits. Com isso, será montada uma árvore de decisão para avaliar como a variável dependente deve se comportar em detrimento das variáveis independentes.\n",
    "\n",
    "![](https://i.imgur.com/OKjfQz4.png)\n",
    "\n",
    "![](https://i.imgur.com/NBxCfWV.png)\n",
    "\n",
    "Com isso, você consegue estimar em qual leaf seu dado provavelmente estará.\n",
    "\n",
    "**Dado essas informações, como prevejo qual será o valor da minha nova observação?**\n",
    "\n",
    "Simples. Cada leaf terá um valor médio de todos os seus valores. E caso uma nova observação caia nessa leaf, ela receberá o seu valor como predição, como mostra a figura abaixo. Ou seja, **O número de splits de decisão interfere muito na acurácia da sua nova observação**.",
    "\n",
    "![](https://i.imgur.com/ApMRVF7.png)\n"
   ]
  },
  {
   "cell_type": "code",
   "execution_count": null,
   "metadata": {},
   "outputs": [],
   "source": []
  }
 ],
 "metadata": {
  "kernelspec": {
   "display_name": "Python 3",
   "language": "python",
   "name": "python3"
  },
  "language_info": {
   "codemirror_mode": {
    "name": "ipython",
    "version": 3
   },
   "file_extension": ".py",
   "mimetype": "text/x-python",
   "name": "python",
   "nbconvert_exporter": "python",
   "pygments_lexer": "ipython3",
   "version": "3.6.4"
  }
 },
 "nbformat": 4,
 "nbformat_minor": 2
}
