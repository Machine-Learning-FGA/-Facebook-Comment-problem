{
 "cells": [
  {
   "cell_type": "markdown",
   "metadata": {},
   "source": [
    "# Random Forest Regressor\n",
    "\n",
    "Modelo que utiliza árvores de decisão randomizadas.\n",
    "\n",
    "## Importação do dataset"
   ]
  },
  {
   "cell_type": "code",
   "execution_count": 1,
   "metadata": {},
   "outputs": [
    {
     "name": "stdout",
     "output_type": "stream",
     "text": [
      "(239979, 53)\n",
      "(239979,)\n"
     ]
    }
   ],
   "source": [
    "import numpy as np\n",
    "\n",
    "f_train = 'facebook_general_dataset/Dataset/Training/Features_All.csv'\n",
    "X_train = np.genfromtxt(f_train, delimiter=',', usecols=range(0, 53))\n",
    "y_train = np.genfromtxt(f_train, delimiter=',', usecols=(53))\n",
    "\n",
    "print(X_train.shape)\n",
    "print(y_train.shape)"
   ]
  },
  {
   "cell_type": "code",
   "execution_count": 2,
   "metadata": {},
   "outputs": [
    {
     "name": "stdout",
     "output_type": "stream",
     "text": [
      "(10044, 53)\n",
      "(10044,)\n"
     ]
    }
   ],
   "source": [
    "f_test = 'facebook_general_dataset/Dataset/Testing/Features_TestSet.csv'\n",
    "X_test = np.genfromtxt(f_test, delimiter=',', usecols=range(0, 53))\n",
    "y_test = np.genfromtxt(f_test, delimiter=',', usecols=(53))\n",
    "\n",
    "print(X_test.shape)\n",
    "print(y_test.shape)"
   ]
  },
  {
   "cell_type": "markdown",
   "metadata": {},
   "source": [
    "---\n",
    "\n",
    "## Teste com valores padrão\n",
    "\n",
    "### Instanciação do modelo"
   ]
  },
  {
   "cell_type": "code",
   "execution_count": 4,
   "metadata": {},
   "outputs": [],
   "source": [
    "from sklearn.ensemble import RandomForestRegressor"
   ]
  },
  {
   "cell_type": "code",
   "execution_count": null,
   "metadata": {},
   "outputs": [],
   "source": [
    "rfr = RandomForestRegressor(max_depth=2, random_state=0)"
   ]
  },
  {
   "cell_type": "markdown",
   "metadata": {},
   "source": [
    "### Treino e predição"
   ]
  },
  {
   "cell_type": "code",
   "execution_count": 45,
   "metadata": {},
   "outputs": [
    {
     "data": {
      "text/plain": [
       "RandomForestRegressor(bootstrap=True, criterion='mse', max_depth=2,\n",
       "           max_features='auto', max_leaf_nodes=None,\n",
       "           min_impurity_decrease=0.0, min_impurity_split=None,\n",
       "           min_samples_leaf=1, min_samples_split=2,\n",
       "           min_weight_fraction_leaf=0.0, n_estimators=10, n_jobs=1,\n",
       "           oob_score=False, random_state=0, verbose=0, warm_start=False)"
      ]
     },
     "execution_count": 45,
     "metadata": {},
     "output_type": "execute_result"
    }
   ],
   "source": [
    "rfr.fit(X_train, y_train)"
   ]
  },
  {
   "cell_type": "code",
   "execution_count": 48,
   "metadata": {},
   "outputs": [],
   "source": [
    "y_pred = rfr.predict(X_test)"
   ]
  },
  {
   "cell_type": "code",
   "execution_count": 49,
   "metadata": {},
   "outputs": [
    {
     "data": {
      "text/plain": [
       "0.15706707661723107"
      ]
     },
     "execution_count": 49,
     "metadata": {},
     "output_type": "execute_result"
    }
   ],
   "source": [
    "rfr.score(X_test, y_test)"
   ]
  },
  {
   "cell_type": "markdown",
   "metadata": {},
   "source": [
    "### Obtenção de métricas"
   ]
  },
  {
   "cell_type": "code",
   "execution_count": 8,
   "metadata": {},
   "outputs": [],
   "source": [
    "from sklearn.metrics import mean_absolute_error, mean_squared_error, r2_score\n",
    "from math import sqrt"
   ]
  },
  {
   "cell_type": "code",
   "execution_count": 53,
   "metadata": {},
   "outputs": [
    {
     "name": "stdout",
     "output_type": "stream",
     "text": [
      "MAE :  28.01589623651051 \n",
      "MSE:  11153.157902403973 \n",
      "RMSE:  105.6085124523775 \n",
      "R2:  0.15706707661723107\n"
     ]
    }
   ],
   "source": [
    "mae  = mean_absolute_error(y_test, y_pred)\n",
    "mse  = mean_squared_error(y_test, y_pred)\n",
    "rmse = sqrt(mse)\n",
    "r2   = r2_score(y_test, y_pred)\n",
    "print(\"MAE : \", mae, \"\\nMSE: \", mse, \"\\nRMSE: \", rmse, \"\\nR2: \", r2)"
   ]
  },
  {
   "cell_type": "markdown",
   "metadata": {},
   "source": [
    "---"
   ]
  },
  {
   "cell_type": "markdown",
   "metadata": {},
   "source": [
    "## Testes com variação de hiperparâmetros\n",
    "\n",
    "O regressor Random Forest tem 2 parâmetros principais: o número de árvores (dado pelo argumento `n_estimators`) e a profundidade máxima das árvores (dada por `max_depth`). Foi avaliada a variação de cada um separadamente, mantendo os outros parâmetros constantes e com valores default.\n",
    "\n",
    "\n",
    "### Variação do número de árvores (`n_estimators`)"
   ]
  },
  {
   "cell_type": "code",
   "execution_count": 32,
   "metadata": {},
   "outputs": [
    {
     "name": "stdout",
     "output_type": "stream",
     "text": [
      "------------------------------------------------------------------\n",
      "Número de árvores: 1\n",
      "MAE :  28.738399751873768 \n",
      "MSE:  11288.41041328002 \n",
      "RMSE:  106.2469313122973 \n",
      "R2:  0.14684496774140932\n",
      "------------------------------------------------------------------\n",
      "Número de árvores: 2\n",
      "MAE :  28.668038256326597 \n",
      "MSE:  11280.644348586666 \n",
      "RMSE:  106.21037778196002 \n",
      "R2:  0.14743191106924802\n",
      "------------------------------------------------------------------\n",
      "Número de árvores: 3\n",
      "MAE :  28.10279846315606 \n",
      "MSE:  11135.07156770814 \n",
      "RMSE:  105.52284855759032 \n",
      "R2:  0.15843400489995096\n",
      "------------------------------------------------------------------\n",
      "Número de árvores: 4\n",
      "MAE :  28.129302194300013 \n",
      "MSE:  11137.578788422861 \n",
      "RMSE:  105.5347278786602 \n",
      "R2:  0.1582445142727117\n",
      "------------------------------------------------------------------\n",
      "Número de árvores: 5\n",
      "MAE :  28.07716669301186 \n",
      "MSE:  11154.152083823945 \n",
      "RMSE:  105.61321926645331 \n",
      "R2:  0.15699193841350056\n",
      "------------------------------------------------------------------\n",
      "Número de árvores: 6\n",
      "MAE :  28.077833716355016 \n",
      "MSE:  11145.083260645104 \n",
      "RMSE:  105.57027640697501 \n",
      "R2:  0.1576773415702275\n",
      "------------------------------------------------------------------\n",
      "Número de árvores: 7\n",
      "MAE :  28.127286730265975 \n",
      "MSE:  11161.206442831446 \n",
      "RMSE:  105.6466111280028 \n",
      "R2:  0.15645878434961857\n",
      "------------------------------------------------------------------\n",
      "Número de árvores: 8\n",
      "MAE :  28.090697723483277 \n",
      "MSE:  11167.268502483555 \n",
      "RMSE:  105.67529750364346 \n",
      "R2:  0.15600062624686517\n",
      "------------------------------------------------------------------\n",
      "Número de árvores: 9\n",
      "MAE :  28.04064731253625 \n",
      "MSE:  11157.630432102245 \n",
      "RMSE:  105.62968537348885 \n",
      "R2:  0.1567290519459702\n"
     ]
    }
   ],
   "source": [
    "mae = []\n",
    "mse = []\n",
    "rmse = []\n",
    "r2 = []\n",
    "\n",
    "for i in range(1,10):\n",
    "    print('------------------------------------------------------------------')\n",
    "    print('Número de árvores:', i)\n",
    "    rfr = RandomForestRegressor(max_depth=2, random_state=0, n_estimators = i)\n",
    "    rfr.fit(X_train, y_train)\n",
    "    y_pred = rfr.predict(X_test)\n",
    "    maei  = mean_absolute_error(y_test, y_pred)\n",
    "    mae.append(maei)\n",
    "    msei  = mean_squared_error(y_test, y_pred)\n",
    "    mse.append(msei)\n",
    "    rmsei = sqrt(msei)\n",
    "    rmse.append(rmsei)\n",
    "    r2i   = r2_score(y_test, y_pred)\n",
    "    r2.append(r2i)\n",
    "    print(\"MAE : \", maei, \"\\nMSE: \", msei, \"\\nRMSE: \", rmsei, \"\\nR2: \", r2i)"
   ]
  },
  {
   "cell_type": "markdown",
   "metadata": {},
   "source": [
    "#### Melhores resultados"
   ]
  },
  {
   "cell_type": "code",
   "execution_count": 33,
   "metadata": {},
   "outputs": [
    {
     "name": "stdout",
     "output_type": "stream",
     "text": [
      "Número de árvores: 9 MAE :  28.04064731253625\n",
      "Número de árvores: 3 \n",
      "MSE:  11135.07156770814\n",
      "Número de árvores: 3 \n",
      "RMSE:  105.52284855759032\n",
      "Número de árvores: 3 \n",
      "R2:  0.15843400489995096\n"
     ]
    }
   ],
   "source": [
    "print(\"Número de árvores:\" , mae.index(min(mae))+1, \"MAE : \", min(mae))\n",
    "print(\"Número de árvores:\" , mse.index(min(mse))+1, \"\\nMSE: \", min(mse))\n",
    "print(\"Número de árvores:\" , rmse.index(min(rmse))+1, \"\\nRMSE: \", min(rmse))\n",
    "print(\"Número de árvores:\" , r2.index(max(r2))+1, \"\\nR2: \", max(r2))"
   ]
  },
  {
   "cell_type": "markdown",
   "metadata": {},
   "source": [
    "### Variação da profundidade máxima (`max_depth`)"
   ]
  },
  {
   "cell_type": "code",
   "execution_count": 36,
   "metadata": {},
   "outputs": [
    {
     "name": "stdout",
     "output_type": "stream",
     "text": [
      "------------------------------------------------------------------\n",
      "Profundidade da árvore: 1\n",
      "MAE :  27.484384803992953 \n",
      "MSE:  12295.03895714369 \n",
      "RMSE:  110.8829966998714 \n",
      "R2:  0.07076603577751661\n",
      "------------------------------------------------------------------\n",
      "Profundidade da árvore: 2\n",
      "MAE :  28.01589623651051 \n",
      "MSE:  11153.157902403973 \n",
      "RMSE:  105.6085124523775 \n",
      "R2:  0.15706707661723107\n",
      "------------------------------------------------------------------\n",
      "Profundidade da árvore: 3\n",
      "MAE :  25.253761111614665 \n",
      "MSE:  9656.635387802882 \n",
      "RMSE:  98.26818095295589 \n",
      "R2:  0.2701711955743321\n",
      "------------------------------------------------------------------\n",
      "Profundidade da árvore: 4\n",
      "MAE :  25.485010791736187 \n",
      "MSE:  9130.753386312836 \n",
      "RMSE:  95.55497572765552 \n",
      "R2:  0.30991628452127873\n",
      "------------------------------------------------------------------\n",
      "Profundidade da árvore: 5\n",
      "MAE :  25.24103473162654 \n",
      "MSE:  8669.709503609125 \n",
      "RMSE:  93.11127484686871 \n",
      "R2:  0.3447610407110405\n",
      "------------------------------------------------------------------\n",
      "Profundidade da árvore: 6\n",
      "MAE :  25.673472112714197 \n",
      "MSE:  8682.16735429946 \n",
      "RMSE:  93.17814848074337 \n",
      "R2:  0.3438195017681366\n",
      "------------------------------------------------------------------\n",
      "Profundidade da árvore: 7\n",
      "MAE :  26.296149705202073 \n",
      "MSE:  8708.247829396805 \n",
      "RMSE:  93.31799306348591 \n",
      "R2:  0.3418483926607977\n",
      "------------------------------------------------------------------\n",
      "Profundidade da árvore: 8\n",
      "MAE :  26.956116284710863 \n",
      "MSE:  8606.33382040595 \n",
      "RMSE:  92.77032834050955 \n",
      "R2:  0.34955084557001403\n",
      "------------------------------------------------------------------\n",
      "Profundidade da árvore: 9\n",
      "MAE :  27.615084772724085 \n",
      "MSE:  9061.828499794889 \n",
      "RMSE:  95.19363686609987 \n",
      "R2:  0.31512548684718455\n"
     ]
    }
   ],
   "source": [
    "mae = []\n",
    "mse = []\n",
    "rmse = []\n",
    "r2 = []\n",
    "\n",
    "for i in range(1,10):\n",
    "    print('------------------------------------------------------------------')\n",
    "    print('Profundidade da árvore:', i)\n",
    "    rfr = RandomForestRegressor(max_depth=i, random_state=0)\n",
    "    rfr.fit(X_train, y_train)\n",
    "    y_pred = rfr.predict(X_test)\n",
    "    maei  = mean_absolute_error(y_test, y_pred)\n",
    "    mae.append(maei)\n",
    "    msei  = mean_squared_error(y_test, y_pred)\n",
    "    mse.append(msei)\n",
    "    rmsei = sqrt(msei)\n",
    "    rmse.append(rmsei)\n",
    "    r2i   = r2_score(y_test, y_pred)\n",
    "    r2.append(r2i)\n",
    "    print(\"MAE : \", maei, \"\\nMSE: \", msei, \"\\nRMSE: \", rmsei, \"\\nR2: \", r2i)"
   ]
  },
  {
   "cell_type": "code",
   "execution_count": 37,
   "metadata": {},
   "outputs": [
    {
     "name": "stdout",
     "output_type": "stream",
     "text": [
      "Profundidade da árvore: 5 MAE :  25.24103473162654\n",
      "Profundidade da árvore: 8 \n",
      "MSE:  8606.33382040595\n",
      "Profundidade da árvore: 8 \n",
      "RMSE:  92.77032834050955\n",
      "Profundidade da árvore: 8 \n",
      "R2:  0.34955084557001403\n"
     ]
    }
   ],
   "source": [
    "print(\"Profundidade da árvore:\" , mae.index(min(mae))+1, \"MAE : \", min(mae))\n",
    "print(\"Profundidade da árvore:\" , mse.index(min(mse))+1,\"\\nMSE: \", min(mse))\n",
    "print(\"Profundidade da árvore:\" , rmse.index(min(rmse))+1,\"\\nRMSE: \", min(rmse))\n",
    "print(\"Profundidade da árvore:\" , r2.index(max(r2))+1,\"\\nR2: \", max(r2))"
   ]
  }
 ],
 "metadata": {
  "kernelspec": {
   "display_name": "Python 3",
   "language": "python",
   "name": "python3"
  },
  "language_info": {
   "codemirror_mode": {
    "name": "ipython",
    "version": 3
   },
   "file_extension": ".py",
   "mimetype": "text/x-python",
   "name": "python",
   "nbconvert_exporter": "python",
   "pygments_lexer": "ipython3",
   "version": "3.6.4"
  }
 },
 "nbformat": 4,
 "nbformat_minor": 2
}
