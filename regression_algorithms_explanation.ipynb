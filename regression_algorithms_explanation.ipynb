{
 "cells": [
  {
   "cell_type": "markdown",
   "metadata": {},
   "source": [
    "# Algorítmos de Regressão"
   ]
  },
  {
   "cell_type": "markdown",
   "metadata": {},
   "source": [
    "## Redes Neurais com Regressão"
   ]
  },
  {
   "cell_type": "markdown",
   "metadata": {},
   "source": [
    "Redes Neurais nada mais são que técnicas computacionais desenvolvidas em torno de modelos matemáticos que remontam \n",
    "a estrutura neural presente em organismos inteligentes. É importante considerar que esses modelos adquirem conhecimento por experiência.\n",
    "\n",
    "Para entender essas técnicas, é preciso se compreender o aspecto biológico. Sabe-se que o sistema nervoso é formado por um conjunto complexo de células, conhecidos como neurônios, estes têm um papel importante para o funcionamento, comportamento e raciocínio do ser humano. Eles são formados por dentritos (terminais de entrada), corpo central e axônios (Terminais de Saída).\n",
    "\n",
    "Artificialmente falando, uma rede desta é composta por várias unidades de processamento, com funcionamento simplificado, conectadas por canais de comunicação com determinado peso associado. Cada unidade opera apenas sobre os dados recebidos pelas conexões, essas operações consistem na relação dos sinais apresentados na entrada e, cada um destes é multiplicado por um peso (Indicando a influência na saída), uma soma ponderada produz um nível de atividade que, se exceder um limite (threshold), a unidade produz uma resposta.\n",
    "\n",
    "No geral os pesos das conexões são ajustados aos padrões, de modo que elas aprendam, ou sejam treinadas, por exemplos. A organização básica dá-se em camadas, com unidades conectadas à de camada superior. É importante frisar que o aprendizado ocorre quando a rede neural atinge uma solução generalizada para uma classe de problemas.\n",
    "\n",
    "![img](http://conteudo.icmc.usp.br/pessoas/andre/research/neural/image/camadas_an.gif)\n",
    "\n",
    "Dentre os tipos de aprendizado, o que se relaciona diretamente com o problema deste trabalho é o aprendizado não supervisionado, que pressupõe uma auto-organização. \n",
    "\n",
    "Há dois diferentes modos de executar a correção de pesos em um ciclo : Modo padrão (correção a cada apresentação de um exemplo do conjunto de treinamento) e modo batch, quando apenas uma correção é feita por ciclo, de modo que todos os exemplos do conjunto de treinamento são mostrados à rede ( calcula erro médio e faz correção dos pesos).\n",
    "\n",
    "De maneira geral,\n",
    "\n",
    "Dado um conjunto Dado um conjunto com N exemplos encontrar a função que minimize uma que minimize uma função de erro estabelecida, ou seja, o treinamento de uma rede neural consiste em decidir qual o mínimo de uma função de erro.\n",
    "\n",
    "\n"
   ]
  }
 ],
 "metadata": {
  "kernelspec": {
   "display_name": "Python 3",
   "language": "python",
   "name": "python3"
  },
  "language_info": {
   "codemirror_mode": {
    "name": "ipython",
    "version": 3
   },
   "file_extension": ".py",
   "mimetype": "text/x-python",
   "name": "python",
   "nbconvert_exporter": "python",
   "pygments_lexer": "ipython3",
   "version": "3.6.4"
  }
 },
 "nbformat": 4,
 "nbformat_minor": 2
}
